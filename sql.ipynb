{
  "nbformat": 4,
  "nbformat_minor": 0,
  "metadata": {
    "colab": {
      "provenance": [],
      "authorship_tag": "ABX9TyOEhV7xAvIRPd0jh+UUjr6W",
      "include_colab_link": true
    },
    "kernelspec": {
      "name": "python3",
      "display_name": "Python 3"
    },
    "language_info": {
      "name": "python"
    }
  },
  "cells": [
    {
      "cell_type": "markdown",
      "metadata": {
        "id": "view-in-github",
        "colab_type": "text"
      },
      "source": [
        "<a href=\"https://colab.research.google.com/github/misbaniha/Beyond_QWERTY_Project/blob/main/sql.ipynb\" target=\"_parent\"><img src=\"https://colab.research.google.com/assets/colab-badge.svg\" alt=\"Open In Colab\"/></a>"
      ]
    },
    {
      "cell_type": "code",
      "execution_count": 1,
      "metadata": {
        "id": "pwGdyOetaLLL"
      },
      "outputs": [],
      "source": [
        "import sqlite3"
      ]
    },
    {
      "cell_type": "code",
      "source": [
        "conn = sqlite3.connect('test.db')\n"
      ],
      "metadata": {
        "id": "PGME-92rbTnd"
      },
      "execution_count": 3,
      "outputs": []
    },
    {
      "cell_type": "code",
      "source": [
        "import sqlite3\n",
        "\n",
        "conn = sqlite3.connect('test.db')\n",
        "\n",
        "# Create a cursor object\n",
        "cursor = conn.cursor()\n",
        "\n",
        "# Define the SQL statement\n",
        "sql = \"\"\"\n",
        "CREATE TABLE Employees (\n",
        "    id INTEGER PRIMARY KEY AUTOINCREMENT,\n",
        "    name VARCHAR(100),\n",
        "    age INT,\n",
        "    department VARCHAR(50),\n",
        "    salary DECIMAL(10, 2)\n",
        ");\n",
        "\"\"\"\n",
        "\n",
        "# Execute the SQL statement using the cursor\n",
        "cursor.execute(sql)\n",
        "\n",
        "# Commit the changes to the database\n",
        "conn.commit()\n",
        "\n",
        "# Close the connection\n",
        "conn.close()\n",
        "\n"
      ],
      "metadata": {
        "id": "BVFza5-YcFrt"
      },
      "execution_count": 5,
      "outputs": []
    },
    {
      "cell_type": "code",
      "source": [
        "import sqlite3\n",
        "\n",
        "# Connect to the database\n",
        "conn = sqlite3.connect('test.db')\n",
        "\n",
        "# Create a cursor object\n",
        "cursor = conn.cursor()\n",
        "\n",
        "# Define the SQL UPDATE statement\n",
        "sql = \"UPDATE Employees SET salary = 65000 WHERE name = 'John Doe';\"\n",
        "\n",
        "# Execute the SQL statement using the cursor\n",
        "cursor.execute(sql)\n",
        "\n",
        "# Commit the changes to the database\n",
        "conn.commit()\n",
        "\n",
        "# Close the connection\n",
        "conn.close()\n"
      ],
      "metadata": {
        "id": "vbrQRTk8deQ8"
      },
      "execution_count": 12,
      "outputs": []
    },
    {
      "cell_type": "code",
      "source": [
        "import sqlite3\n",
        "\n",
        "# Connect to the database\n",
        "conn = sqlite3.connect('test.db')\n",
        "\n",
        "# Create a cursor object\n",
        "cursor = conn.cursor()\n",
        "\n",
        "# Define the SQL INSERT statement\n",
        "sql = \"\"\"\n",
        "INSERT INTO Employees (name, age, department, salary)\n",
        "VALUES ('John Doe', 30, 'IT', 60000.00);\n",
        "\"\"\"\n",
        "\n",
        "# Execute the SQL statement\n",
        "cursor.execute(sql)\n",
        "\n",
        "# Commit the changes to the database\n",
        "conn.commit()\n",
        "\n",
        "# Close the connection\n",
        "conn.close()\n",
        "\n"
      ],
      "metadata": {
        "id": "mtawnNh_clcM"
      },
      "execution_count": 7,
      "outputs": []
    },
    {
      "cell_type": "code",
      "source": [
        "import sqlite3\n",
        "\n",
        "# Connect to the database\n",
        "conn = sqlite3.connect('test.db')\n",
        "\n",
        "# Create a cursor object\n",
        "cursor = conn.cursor()\n",
        "\n",
        "# Define the SQL SELECT statement\n",
        "sql = \"SELECT * FROM Employees;\"\n",
        "\n",
        "# Execute the SQL statement using the cursor\n",
        "cursor.execute(sql)\n",
        "\n",
        "# Fetch all results\n",
        "results = cursor.fetchall()\n",
        "\n",
        "# Print the results\n",
        "for row in results:\n",
        "    print(row)\n",
        "\n",
        "# Close the connection\n",
        "conn.close()\n"
      ],
      "metadata": {
        "colab": {
          "base_uri": "https://localhost:8080/"
        },
        "id": "oeXZo1x5c0yO",
        "outputId": "f30db80a-97fb-43cc-a0e6-ef8de0ee2011"
      },
      "execution_count": 10,
      "outputs": [
        {
          "output_type": "stream",
          "name": "stdout",
          "text": [
            "(1, 'John Doe', 30, 'IT', 60000)\n"
          ]
        }
      ]
    }
  ]
}